{
 "cells": [
  {
   "cell_type": "markdown",
   "id": "9136bf56-2f99-4582-b96b-dba73c7224ef",
   "metadata": {},
   "source": [
    "# Week 1 Individual Assignment"
   ]
  },
  {
   "cell_type": "markdown",
   "id": "d950b01e-740d-4065-8032-f965bdb1b0a9",
   "metadata": {},
   "source": [
    "Importing geopandas library"
   ]
  },
  {
   "cell_type": "code",
   "execution_count": 1,
   "id": "315a05fb-c5a1-4a40-9b54-e5f95983a9aa",
   "metadata": {},
   "outputs": [
    {
     "name": "stderr",
     "output_type": "stream",
     "text": [
      "/opt/conda/lib/python3.9/site-packages/geopandas/_compat.py:106: UserWarning: The Shapely GEOS version (3.9.1-CAPI-1.14.2) is incompatible with the GEOS version PyGEOS was compiled with (3.10.1-CAPI-1.16.0). Conversions between both will be slow.\n",
      "  warnings.warn(\n"
     ]
    }
   ],
   "source": [
    "import geopandas as gp"
   ]
  },
  {
   "cell_type": "markdown",
   "id": "42adfb06-81cd-4058-8001-232e7fdecc3c",
   "metadata": {},
   "source": [
    "Importing the rapid bus lines data from LA Metro GIS database. Note that I read the data directly from the website. It was displaying errors when the file was manually uploaded. "
   ]
  },
  {
   "cell_type": "code",
   "execution_count": 2,
   "id": "f9e82fff-89be-4fa8-874e-8dd53e2936fa",
   "metadata": {},
   "outputs": [],
   "source": [
    "rapid = gp.read_file('https://developer.metro.net/wp-content/uploads/2021/02/RapidBRT0620.zip')"
   ]
  },
  {
   "cell_type": "markdown",
   "id": "03ff65a8-ce89-479c-af5e-7b6f7c3a2237",
   "metadata": {},
   "source": [
    "exploring the datatype of the imported file"
   ]
  },
  {
   "cell_type": "code",
   "execution_count": 3,
   "id": "bf5bef66-e7cb-47a8-9a96-7ef45959d19a",
   "metadata": {},
   "outputs": [
    {
     "data": {
      "text/plain": [
       "geopandas.geodataframe.GeoDataFrame"
      ]
     },
     "execution_count": 3,
     "metadata": {},
     "output_type": "execute_result"
    }
   ],
   "source": [
    "type(rapid)"
   ]
  },
  {
   "cell_type": "markdown",
   "id": "36cf11b8-c6c1-41fa-ae9e-b12878093399",
   "metadata": {},
   "source": [
    "Exploring the number of rows and columns in the file. "
   ]
  },
  {
   "cell_type": "code",
   "execution_count": 4,
   "id": "c5be9fc8-c5c1-415c-9f0d-83117ac4a496",
   "metadata": {},
   "outputs": [
    {
     "data": {
      "text/plain": [
       "(85, 5)"
      ]
     },
     "execution_count": 4,
     "metadata": {},
     "output_type": "execute_result"
    }
   ],
   "source": [
    "rapid.shape"
   ]
  },
  {
   "cell_type": "markdown",
   "id": "015e70a8-7755-40dd-b3fe-0506bf4fcadd",
   "metadata": {},
   "source": [
    "Exploring basic information about the file - header names and number of rows. "
   ]
  },
  {
   "cell_type": "code",
   "execution_count": 5,
   "id": "f8e70169-5359-45db-a311-0896bb8ff95b",
   "metadata": {},
   "outputs": [
    {
     "data": {
      "text/plain": [
       "<bound method DataFrame.info of    VAR_ROUTE VAR_IDENT  VAR_DIREC                        VAR_DESCR  \\\n",
       "0        704        E1          2   END TO END - RAPID - TO DIV13O   \n",
       "1        704        E3          2                 NEBSEP Shortline   \n",
       "2        704        E6          2               TRIPS START SEPSAN   \n",
       "3        704        W1          3  END TO END- RAPID - FROM DIV13O   \n",
       "4        704        W3          3                 NEBSEP Shortline   \n",
       "..       ...       ...        ...                              ...   \n",
       "80       901        E2          2           CANOGA STATION LAYOVER   \n",
       "81       901        W1          3                       END TO END   \n",
       "82       901        W2          3           CANOGA STATION LAYOVER   \n",
       "83       910        N1          0                       END TO END   \n",
       "84       910        S1          1                             None   \n",
       "\n",
       "                                             geometry  \n",
       "0   LINESTRING (-118.49997 34.01574, -118.50054 34...  \n",
       "1   LINESTRING (-118.44327 34.04567, -118.44335 34...  \n",
       "2   LINESTRING (-118.44356 34.04791, -118.44354 34...  \n",
       "3   LINESTRING (-118.23190 34.05663, -118.23230 34...  \n",
       "4   LINESTRING (-118.38430 34.08485, -118.38471 34...  \n",
       "..                                                ...  \n",
       "80  LINESTRING (-118.59682 34.19051, -118.59747 34...  \n",
       "81  LINESTRING (-118.37799 34.16852, -118.37744 34...  \n",
       "82  LINESTRING (-118.57169 34.18742, -118.57207 34...  \n",
       "83  LINESTRING (-118.28798 33.72493, -118.28798 33...  \n",
       "84  LINESTRING (-118.04513 34.07202, -118.04598 34...  \n",
       "\n",
       "[85 rows x 5 columns]>"
      ]
     },
     "execution_count": 5,
     "metadata": {},
     "output_type": "execute_result"
    }
   ],
   "source": [
    "rapid.info"
   ]
  },
  {
   "cell_type": "markdown",
   "id": "54f20626-94c6-4200-817a-b1b950d4b9c2",
   "metadata": {},
   "source": [
    "Generating list of first five rows in the file"
   ]
  },
  {
   "cell_type": "code",
   "execution_count": 6,
   "id": "25863a22-460a-43a8-afd4-123a7a4aab27",
   "metadata": {},
   "outputs": [
    {
     "data": {
      "text/html": [
       "<div>\n",
       "<style scoped>\n",
       "    .dataframe tbody tr th:only-of-type {\n",
       "        vertical-align: middle;\n",
       "    }\n",
       "\n",
       "    .dataframe tbody tr th {\n",
       "        vertical-align: top;\n",
       "    }\n",
       "\n",
       "    .dataframe thead th {\n",
       "        text-align: right;\n",
       "    }\n",
       "</style>\n",
       "<table border=\"1\" class=\"dataframe\">\n",
       "  <thead>\n",
       "    <tr style=\"text-align: right;\">\n",
       "      <th></th>\n",
       "      <th>VAR_ROUTE</th>\n",
       "      <th>VAR_IDENT</th>\n",
       "      <th>VAR_DIREC</th>\n",
       "      <th>VAR_DESCR</th>\n",
       "      <th>geometry</th>\n",
       "    </tr>\n",
       "  </thead>\n",
       "  <tbody>\n",
       "    <tr>\n",
       "      <th>0</th>\n",
       "      <td>704</td>\n",
       "      <td>E1</td>\n",
       "      <td>2</td>\n",
       "      <td>END TO END - RAPID - TO DIV13O</td>\n",
       "      <td>LINESTRING (-118.49997 34.01574, -118.50054 34...</td>\n",
       "    </tr>\n",
       "    <tr>\n",
       "      <th>1</th>\n",
       "      <td>704</td>\n",
       "      <td>E3</td>\n",
       "      <td>2</td>\n",
       "      <td>NEBSEP Shortline</td>\n",
       "      <td>LINESTRING (-118.44327 34.04567, -118.44335 34...</td>\n",
       "    </tr>\n",
       "    <tr>\n",
       "      <th>2</th>\n",
       "      <td>704</td>\n",
       "      <td>E6</td>\n",
       "      <td>2</td>\n",
       "      <td>TRIPS START SEPSAN</td>\n",
       "      <td>LINESTRING (-118.44356 34.04791, -118.44354 34...</td>\n",
       "    </tr>\n",
       "    <tr>\n",
       "      <th>3</th>\n",
       "      <td>704</td>\n",
       "      <td>W1</td>\n",
       "      <td>3</td>\n",
       "      <td>END TO END- RAPID - FROM DIV13O</td>\n",
       "      <td>LINESTRING (-118.23190 34.05663, -118.23230 34...</td>\n",
       "    </tr>\n",
       "    <tr>\n",
       "      <th>4</th>\n",
       "      <td>704</td>\n",
       "      <td>W3</td>\n",
       "      <td>3</td>\n",
       "      <td>NEBSEP Shortline</td>\n",
       "      <td>LINESTRING (-118.38430 34.08485, -118.38471 34...</td>\n",
       "    </tr>\n",
       "  </tbody>\n",
       "</table>\n",
       "</div>"
      ],
      "text/plain": [
       "  VAR_ROUTE VAR_IDENT  VAR_DIREC                        VAR_DESCR  \\\n",
       "0       704        E1          2   END TO END - RAPID - TO DIV13O   \n",
       "1       704        E3          2                 NEBSEP Shortline   \n",
       "2       704        E6          2               TRIPS START SEPSAN   \n",
       "3       704        W1          3  END TO END- RAPID - FROM DIV13O   \n",
       "4       704        W3          3                 NEBSEP Shortline   \n",
       "\n",
       "                                            geometry  \n",
       "0  LINESTRING (-118.49997 34.01574, -118.50054 34...  \n",
       "1  LINESTRING (-118.44327 34.04567, -118.44335 34...  \n",
       "2  LINESTRING (-118.44356 34.04791, -118.44354 34...  \n",
       "3  LINESTRING (-118.23190 34.05663, -118.23230 34...  \n",
       "4  LINESTRING (-118.38430 34.08485, -118.38471 34...  "
      ]
     },
     "execution_count": 6,
     "metadata": {},
     "output_type": "execute_result"
    }
   ],
   "source": [
    "rapid.head()"
   ]
  },
  {
   "cell_type": "markdown",
   "id": "be6d7be5-9875-4a0c-8370-f24478851c18",
   "metadata": {},
   "source": [
    "Plotting the rows in the file"
   ]
  },
  {
   "cell_type": "code",
   "execution_count": 7,
   "id": "bd284c2e-a9e0-4674-8e68-970f1b00dc9c",
   "metadata": {},
   "outputs": [
    {
     "data": {
      "text/plain": [
       "<AxesSubplot:>"
      ]
     },
     "execution_count": 7,
     "metadata": {},
     "output_type": "execute_result"
    },
    {
     "data": {
      "image/png": "[encoded data removed]",
      "text/plain": [
       "<Figure size 432x288 with 1 Axes>"
      ]
     },
     "metadata": {
      "needs_background": "light"
     },
     "output_type": "display_data"
    }
   ],
   "source": [
    "rapid.plot()"
   ]
  },
  {
   "cell_type": "markdown",
   "id": "454ee4d6-2671-475f-9e4b-f6a22e5d1f91",
   "metadata": {},
   "source": [
    "Generating a random sample of three rows"
   ]
  },
  {
   "cell_type": "code",
   "execution_count": 8,
   "id": "dc4d6454-1883-41ee-80c7-a49d3ff05c40",
   "metadata": {},
   "outputs": [
    {
     "data": {
      "text/html": [
       "<div>\n",
       "<style scoped>\n",
       "    .dataframe tbody tr th:only-of-type {\n",
       "        vertical-align: middle;\n",
       "    }\n",
       "\n",
       "    .dataframe tbody tr th {\n",
       "        vertical-align: top;\n",
       "    }\n",
       "\n",
       "    .dataframe thead th {\n",
       "        text-align: right;\n",
       "    }\n",
       "</style>\n",
       "<table border=\"1\" class=\"dataframe\">\n",
       "  <thead>\n",
       "    <tr style=\"text-align: right;\">\n",
       "      <th></th>\n",
       "      <th>VAR_ROUTE</th>\n",
       "      <th>VAR_IDENT</th>\n",
       "      <th>VAR_DIREC</th>\n",
       "      <th>VAR_DESCR</th>\n",
       "      <th>geometry</th>\n",
       "    </tr>\n",
       "  </thead>\n",
       "  <tbody>\n",
       "    <tr>\n",
       "      <th>33</th>\n",
       "      <td>734</td>\n",
       "      <td>N2</td>\n",
       "      <td>0</td>\n",
       "      <td>DETOUR</td>\n",
       "      <td>LINESTRING (-118.43538 34.03731, -118.43583 34...</td>\n",
       "    </tr>\n",
       "    <tr>\n",
       "      <th>37</th>\n",
       "      <td>740</td>\n",
       "      <td>N2</td>\n",
       "      <td>0</td>\n",
       "      <td>HAWSTO</td>\n",
       "      <td>LINESTRING (-118.35259 33.93229, -118.35259 33...</td>\n",
       "    </tr>\n",
       "    <tr>\n",
       "      <th>80</th>\n",
       "      <td>901</td>\n",
       "      <td>E2</td>\n",
       "      <td>2</td>\n",
       "      <td>CANOGA STATION LAYOVER</td>\n",
       "      <td>LINESTRING (-118.59682 34.19051, -118.59747 34...</td>\n",
       "    </tr>\n",
       "  </tbody>\n",
       "</table>\n",
       "</div>"
      ],
      "text/plain": [
       "   VAR_ROUTE VAR_IDENT  VAR_DIREC               VAR_DESCR  \\\n",
       "33       734        N2          0                  DETOUR   \n",
       "37       740        N2          0                  HAWSTO   \n",
       "80       901        E2          2  CANOGA STATION LAYOVER   \n",
       "\n",
       "                                             geometry  \n",
       "33  LINESTRING (-118.43538 34.03731, -118.43583 34...  \n",
       "37  LINESTRING (-118.35259 33.93229, -118.35259 33...  \n",
       "80  LINESTRING (-118.59682 34.19051, -118.59747 34...  "
      ]
     },
     "execution_count": 8,
     "metadata": {},
     "output_type": "execute_result"
    }
   ],
   "source": [
    "rapid.sample(3)"
   ]
  },
  {
   "cell_type": "markdown",
   "id": "f8aef929-2512-4415-8c89-58e9feff0c34",
   "metadata": {},
   "source": [
    "Generating list of column headers in the file"
   ]
  },
  {
   "cell_type": "code",
   "execution_count": 9,
   "id": "5ba6c3b3-83de-4193-ae7a-7f2d9f7de6b4",
   "metadata": {},
   "outputs": [
    {
     "data": {
      "text/plain": [
       "['VAR_ROUTE', 'VAR_IDENT', 'VAR_DIREC', 'VAR_DESCR', 'geometry']"
      ]
     },
     "execution_count": 9,
     "metadata": {},
     "output_type": "execute_result"
    }
   ],
   "source": [
    "rapid.columns.to_list()"
   ]
  },
  {
   "cell_type": "markdown",
   "id": "f2ffcddc-8eab-4a3b-b717-f4738cedacc6",
   "metadata": {},
   "source": [
    "Counting unique items in first column names VAR_ROUTE"
   ]
  },
  {
   "cell_type": "code",
   "execution_count": 10,
   "id": "0630d224-85b9-48e6-876c-4e98ed908aac",
   "metadata": {},
   "outputs": [
    {
     "data": {
      "text/plain": [
       "720    10\n",
       "745     7\n",
       "704     6\n",
       "728     5\n",
       "744     5\n",
       "760     4\n",
       "901     4\n",
       "733     4\n",
       "734     4\n",
       "780     4\n",
       "705     4\n",
       "754     4\n",
       "762     4\n",
       "770     3\n",
       "750     3\n",
       "740     3\n",
       "710     3\n",
       "757     2\n",
       "751     2\n",
       "794     2\n",
       "910     2\n",
       "Name: VAR_ROUTE, dtype: int64"
      ]
     },
     "execution_count": 10,
     "metadata": {},
     "output_type": "execute_result"
    }
   ],
   "source": [
    "rapid['VAR_ROUTE'].value_counts()"
   ]
  },
  {
   "cell_type": "markdown",
   "id": "c98a9c70-17e0-4f0a-96e3-c9f21a32bc57",
   "metadata": {},
   "source": [
    "Filtering the file to display all records with VAR_ROUTE 720"
   ]
  },
  {
   "cell_type": "code",
   "execution_count": 11,
   "id": "31aa1810-9ae3-4a39-b6ae-00e58dc87941",
   "metadata": {},
   "outputs": [
    {
     "data": {
      "text/html": [
       "<div>\n",
       "<style scoped>\n",
       "    .dataframe tbody tr th:only-of-type {\n",
       "        vertical-align: middle;\n",
       "    }\n",
       "\n",
       "    .dataframe tbody tr th {\n",
       "        vertical-align: top;\n",
       "    }\n",
       "\n",
       "    .dataframe thead th {\n",
       "        text-align: right;\n",
       "    }\n",
       "</style>\n",
       "<table border=\"1\" class=\"dataframe\">\n",
       "  <thead>\n",
       "    <tr style=\"text-align: right;\">\n",
       "      <th></th>\n",
       "      <th>VAR_ROUTE</th>\n",
       "      <th>VAR_IDENT</th>\n",
       "      <th>VAR_DIREC</th>\n",
       "      <th>VAR_DESCR</th>\n",
       "      <th>geometry</th>\n",
       "    </tr>\n",
       "  </thead>\n",
       "  <tbody>\n",
       "    <tr>\n",
       "      <th>13</th>\n",
       "      <td>720</td>\n",
       "      <td>E1</td>\n",
       "      <td>2</td>\n",
       "      <td>END TO END</td>\n",
       "      <td>LINESTRING (-118.49027 34.01384, -118.49043 34...</td>\n",
       "    </tr>\n",
       "    <tr>\n",
       "      <th>14</th>\n",
       "      <td>720</td>\n",
       "      <td>E3</td>\n",
       "      <td>2</td>\n",
       "      <td>FEDERAL BLDG. L.O.</td>\n",
       "      <td>LINESTRING (-118.44719 34.05707, -118.44699 34...</td>\n",
       "    </tr>\n",
       "    <tr>\n",
       "      <th>15</th>\n",
       "      <td>720</td>\n",
       "      <td>E4</td>\n",
       "      <td>2</td>\n",
       "      <td>6TH/CENTRAL L.O.</td>\n",
       "      <td>LINESTRING (-118.29140 34.06181, -118.29030 34...</td>\n",
       "    </tr>\n",
       "    <tr>\n",
       "      <th>16</th>\n",
       "      <td>720</td>\n",
       "      <td>E5</td>\n",
       "      <td>2</td>\n",
       "      <td>WILVER LO</td>\n",
       "      <td>LINESTRING (-118.34633 34.06229, -118.34617 34...</td>\n",
       "    </tr>\n",
       "    <tr>\n",
       "      <th>17</th>\n",
       "      <td>720</td>\n",
       "      <td>E7</td>\n",
       "      <td>2</td>\n",
       "      <td>WHITTIER / HOEFNER</td>\n",
       "      <td>LINESTRING (-118.21523 34.03418, -118.21485 34...</td>\n",
       "    </tr>\n",
       "    <tr>\n",
       "      <th>18</th>\n",
       "      <td>720</td>\n",
       "      <td>EB</td>\n",
       "      <td>2</td>\n",
       "      <td>WILSHIRE_BARRINGTON</td>\n",
       "      <td>LINESTRING (-118.46105 34.04936, -118.46087 34...</td>\n",
       "    </tr>\n",
       "    <tr>\n",
       "      <th>19</th>\n",
       "      <td>720</td>\n",
       "      <td>W1</td>\n",
       "      <td>3</td>\n",
       "      <td>END TO END</td>\n",
       "      <td>LINESTRING (-118.15417 34.01864, -118.15403 34...</td>\n",
       "    </tr>\n",
       "    <tr>\n",
       "      <th>20</th>\n",
       "      <td>720</td>\n",
       "      <td>W2</td>\n",
       "      <td>3</td>\n",
       "      <td>3RD ST PROMENADE P/I &amp; DHD</td>\n",
       "      <td>LINESTRING (-118.48877 34.02689, -118.48888 34...</td>\n",
       "    </tr>\n",
       "    <tr>\n",
       "      <th>21</th>\n",
       "      <td>720</td>\n",
       "      <td>W3</td>\n",
       "      <td>3</td>\n",
       "      <td>FEDERAL BLDG. L.O.</td>\n",
       "      <td>LINESTRING (-118.40898 34.06709, -118.40948 34...</td>\n",
       "    </tr>\n",
       "    <tr>\n",
       "      <th>22</th>\n",
       "      <td>720</td>\n",
       "      <td>W5</td>\n",
       "      <td>3</td>\n",
       "      <td>VERMONT L.O.</td>\n",
       "      <td>LINESTRING (-118.28949 34.06226, -118.28991 34...</td>\n",
       "    </tr>\n",
       "  </tbody>\n",
       "</table>\n",
       "</div>"
      ],
      "text/plain": [
       "   VAR_ROUTE VAR_IDENT  VAR_DIREC                   VAR_DESCR  \\\n",
       "13       720        E1          2                  END TO END   \n",
       "14       720        E3          2          FEDERAL BLDG. L.O.   \n",
       "15       720        E4          2            6TH/CENTRAL L.O.   \n",
       "16       720        E5          2                   WILVER LO   \n",
       "17       720        E7          2          WHITTIER / HOEFNER   \n",
       "18       720        EB          2         WILSHIRE_BARRINGTON   \n",
       "19       720        W1          3                  END TO END   \n",
       "20       720        W2          3  3RD ST PROMENADE P/I & DHD   \n",
       "21       720        W3          3          FEDERAL BLDG. L.O.   \n",
       "22       720        W5          3                VERMONT L.O.   \n",
       "\n",
       "                                             geometry  \n",
       "13  LINESTRING (-118.49027 34.01384, -118.49043 34...  \n",
       "14  LINESTRING (-118.44719 34.05707, -118.44699 34...  \n",
       "15  LINESTRING (-118.29140 34.06181, -118.29030 34...  \n",
       "16  LINESTRING (-118.34633 34.06229, -118.34617 34...  \n",
       "17  LINESTRING (-118.21523 34.03418, -118.21485 34...  \n",
       "18  LINESTRING (-118.46105 34.04936, -118.46087 34...  \n",
       "19  LINESTRING (-118.15417 34.01864, -118.15403 34...  \n",
       "20  LINESTRING (-118.48877 34.02689, -118.48888 34...  \n",
       "21  LINESTRING (-118.40898 34.06709, -118.40948 34...  \n",
       "22  LINESTRING (-118.28949 34.06226, -118.28991 34...  "
      ]
     },
     "execution_count": 11,
     "metadata": {},
     "output_type": "execute_result"
    }
   ],
   "source": [
    "rapid[rapid.VAR_ROUTE == '720']"
   ]
  },
  {
   "cell_type": "markdown",
   "id": "84da1925-9059-46ee-8e43-d204eabd08f0",
   "metadata": {},
   "source": [
    "Creating new variable to contain list of route names and their count"
   ]
  },
  {
   "cell_type": "code",
   "execution_count": 12,
   "id": "433df6f9-d582-4cf8-8a47-3149805b87a4",
   "metadata": {},
   "outputs": [],
   "source": [
    "rapid_lines = rapid['VAR_ROUTE'].value_counts()"
   ]
  },
  {
   "cell_type": "code",
   "execution_count": 14,
   "id": "1de54af5-925e-4f5e-ae3c-ea0081799e9a",
   "metadata": {},
   "outputs": [
    {
     "data": {
      "text/plain": [
       "pandas.core.series.Series"
      ]
     },
     "execution_count": 14,
     "metadata": {},
     "output_type": "execute_result"
    }
   ],
   "source": [
    "type(rapid_lines)"
   ]
  },
  {
   "cell_type": "markdown",
   "id": "432386a2-d597-4037-84d7-3d231e1366e2",
   "metadata": {},
   "source": [
    "Plotting route numbers and their variations as bar plot"
   ]
  },
  {
   "cell_type": "code",
   "execution_count": 15,
   "id": "8772d9ef-e665-4534-b9c8-01d9fa140fd8",
   "metadata": {},
   "outputs": [
    {
     "data": {
      "text/plain": [
       "<AxesSubplot:title={'center':'Variations for the line'}>"
      ]
     },
     "execution_count": 15,
     "metadata": {},
     "output_type": "execute_result"
    },
    {
     "data": {
      "image/png": "[encoded data removed]",
      "text/plain": [
       "<Figure size 432x288 with 1 Axes>"
      ]
     },
     "metadata": {
      "needs_background": "light"
     },
     "output_type": "display_data"
    }
   ],
   "source": [
    "# give it additional arguments\n",
    "rapid_lines.plot.bar(x = 'route', y = 'count', title = 'Variations for the line')"
   ]
  },
  {
   "cell_type": "markdown",
   "id": "f5c2ee96-cae2-4aeb-be9c-1e3fefb5f42f",
   "metadata": {},
   "source": [
    "Plotting route numbers (rapid_routes)"
   ]
  },
  {
   "cell_type": "code",
   "execution_count": 16,
   "id": "69b43a8f-3477-40af-be3e-fc03a28c32be",
   "metadata": {},
   "outputs": [
    {
     "data": {
      "text/plain": [
       "<AxesSubplot:>"
      ]
     },
     "execution_count": 16,
     "metadata": {},
     "output_type": "execute_result"
    },
    {
     "data": {
      "image/png": "[encoded data removed]",
      "text/plain": [
       "<Figure size 432x288 with 1 Axes>"
      ]
     },
     "metadata": {
      "needs_background": "light"
     },
     "output_type": "display_data"
    }
   ],
   "source": [
    "rapid_lines.plot()"
   ]
  },
  {
   "cell_type": "code",
   "execution_count": null,
   "id": "9c2bfa4f-35ae-4b44-8136-496bd4e4fd02",
   "metadata": {},
   "outputs": [],
   "source": []
  },
  {
   "cell_type": "code",
   "execution_count": null,
   "id": "42c5cb9a-b3c0-4616-867c-662d2f238792",
   "metadata": {},
   "outputs": [],
   "source": []
  }
 ],
 "metadata": {
  "kernelspec": {
   "display_name": "Python 3 (ipykernel)",
   "language": "python",
   "name": "python3"
  },
  "language_info": {
   "codemirror_mode": {
    "name": "ipython",
    "version": 3
   },
   "file_extension": ".py",
   "mimetype": "text/x-python",
   "name": "python",
   "nbconvert_exporter": "python",
   "pygments_lexer": "ipython3",
   "version": "3.9.6"
  }
 },
 "nbformat": 4,
 "nbformat_minor": 5
}
